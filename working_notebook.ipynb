{
 "cells": [
  {
   "attachments": {},
   "cell_type": "markdown",
   "metadata": {},
   "source": [
    "# CUSTOMER CHURN IN TELECOMMUNICATION COMPANY"
   ]
  },
  {
   "attachments": {},
   "cell_type": "markdown",
   "metadata": {},
   "source": [
    "## Project overview"
   ]
  },
  {
   "attachments": {},
   "cell_type": "markdown",
   "metadata": {},
   "source": [
    "Customer churn is the loss of clients or customers. Predicting churn helps the Telecom company to:\n",
    "\n",
    "1. Identify at risk customers and implement *highly targeted* efforts to stop them churning.\n",
    "2. Identify pain points and friction across a customers journey.\n",
    "3. Identify strategies that target these pain points to lower churn and increase retention rates.\n",
    "\n"
   ]
  },
  {
   "attachments": {},
   "cell_type": "markdown",
   "metadata": {},
   "source": [
    "## Business understanding"
   ]
  },
  {
   "attachments": {},
   "cell_type": "markdown",
   "metadata": {},
   "source": [
    "### Business problem"
   ]
  },
  {
   "attachments": {},
   "cell_type": "markdown",
   "metadata": {},
   "source": [
    "\n"
   ]
  },
  {
   "attachments": {},
   "cell_type": "markdown",
   "metadata": {},
   "source": [
    "### Objectives"
   ]
  },
  {
   "attachments": {},
   "cell_type": "markdown",
   "metadata": {},
   "source": [
    "- To build a machine learning model that can accurately predict customers  who will churn based on the information available in the dataset.<br>\n",
    "- To identify the features that are important for predicting customer churn."
   ]
  },
  {
   "attachments": {},
   "cell_type": "markdown",
   "metadata": {},
   "source": [
    "### Success criteria"
   ]
  },
  {
   "attachments": {},
   "cell_type": "markdown",
   "metadata": {},
   "source": [
    "The most important metric that will be used to evaluate the performance of the classification algorithm is recall. Recall involves the rate at which the model correctly predicts customers who are going to churn. The end goal is to minimize false negatives. Failure to identify a customer who is about to churn is more costly to the business, than wrongly classifying a non-churning customer. A successful model should have a recall of at least 85%.<br>\n",
    "However, if the model predicts that all customers will churn, it would have a perfect recall. This would not be useful to the business since it is clear that not all customers will churn. It will be important to keep track of precision and accuracy as secondary metrics."
   ]
  },
  {
   "attachments": {},
   "cell_type": "markdown",
   "metadata": {},
   "source": [
    "# Data Understanding"
   ]
  },
  {
   "cell_type": "code",
   "execution_count": 288,
   "metadata": {},
   "outputs": [],
   "source": [
    "# Importing libraries\n",
    "import pandas as pd\n",
    "import numpy as np\n",
    "import seaborn as sns\n",
    "\n",
    "import matplotlib.pyplot as plt\n",
    "%matplotlib inline\n",
    "\n",
    "\n",
    "# sklearn libraries\n",
    "from sklearn.preprocessing import StandardScaler\n",
    "from sklearn.model_selection import train_test_split, GridSearchCV\n",
    "from sklearn.linear_model import LogisticRegression\n",
    "from sklearn.metrics import accuracy_score, precision_score, recall_score\n",
    "from sklearn.metrics import classification_report, confusion_matrix, ConfusionMatrixDisplay\n",
    "from sklearn.tree import DecisionTreeClassifier \n",
    "from sklearn.neighbors import KNeighborsClassifier\n",
    "from sklearn.ensemble import RandomForestClassifier\n",
    "from sklearn.feature_selection import RFECV\n",
    "from sklearn.pipeline import Pipeline\n",
    "from sklearn.metrics import roc_curve, auc\n",
    "from sklearn.svm import SVC\n",
    "\n",
    "from imblearn.over_sampling import SMOTE\n"
   ]
  },
  {
   "cell_type": "code",
   "execution_count": 289,
   "metadata": {},
   "outputs": [],
   "source": [
    "# loading the dataset\n",
    "df = pd.read_csv('Telecom_data.csv')"
   ]
  },
  {
   "attachments": {},
   "cell_type": "markdown",
   "metadata": {},
   "source": [
    "# Data Understanding"
   ]
  },
  {
   "cell_type": "code",
   "execution_count": 290,
   "metadata": {},
   "outputs": [
    {
     "data": {
      "text/html": [
       "<div>\n",
       "<style scoped>\n",
       "    .dataframe tbody tr th:only-of-type {\n",
       "        vertical-align: middle;\n",
       "    }\n",
       "\n",
       "    .dataframe tbody tr th {\n",
       "        vertical-align: top;\n",
       "    }\n",
       "\n",
       "    .dataframe thead th {\n",
       "        text-align: right;\n",
       "    }\n",
       "</style>\n",
       "<table border=\"1\" class=\"dataframe\">\n",
       "  <thead>\n",
       "    <tr style=\"text-align: right;\">\n",
       "      <th></th>\n",
       "      <th>state</th>\n",
       "      <th>account length</th>\n",
       "      <th>area code</th>\n",
       "      <th>phone number</th>\n",
       "      <th>international plan</th>\n",
       "      <th>voice mail plan</th>\n",
       "      <th>number vmail messages</th>\n",
       "      <th>total day minutes</th>\n",
       "      <th>total day calls</th>\n",
       "      <th>total day charge</th>\n",
       "      <th>...</th>\n",
       "      <th>total eve calls</th>\n",
       "      <th>total eve charge</th>\n",
       "      <th>total night minutes</th>\n",
       "      <th>total night calls</th>\n",
       "      <th>total night charge</th>\n",
       "      <th>total intl minutes</th>\n",
       "      <th>total intl calls</th>\n",
       "      <th>total intl charge</th>\n",
       "      <th>customer service calls</th>\n",
       "      <th>churn</th>\n",
       "    </tr>\n",
       "  </thead>\n",
       "  <tbody>\n",
       "    <tr>\n",
       "      <th>0</th>\n",
       "      <td>KS</td>\n",
       "      <td>128</td>\n",
       "      <td>415</td>\n",
       "      <td>382-4657</td>\n",
       "      <td>no</td>\n",
       "      <td>yes</td>\n",
       "      <td>25</td>\n",
       "      <td>265.1</td>\n",
       "      <td>110</td>\n",
       "      <td>45.07</td>\n",
       "      <td>...</td>\n",
       "      <td>99</td>\n",
       "      <td>16.78</td>\n",
       "      <td>244.7</td>\n",
       "      <td>91</td>\n",
       "      <td>11.01</td>\n",
       "      <td>10.0</td>\n",
       "      <td>3</td>\n",
       "      <td>2.70</td>\n",
       "      <td>1</td>\n",
       "      <td>False</td>\n",
       "    </tr>\n",
       "    <tr>\n",
       "      <th>1</th>\n",
       "      <td>OH</td>\n",
       "      <td>107</td>\n",
       "      <td>415</td>\n",
       "      <td>371-7191</td>\n",
       "      <td>no</td>\n",
       "      <td>yes</td>\n",
       "      <td>26</td>\n",
       "      <td>161.6</td>\n",
       "      <td>123</td>\n",
       "      <td>27.47</td>\n",
       "      <td>...</td>\n",
       "      <td>103</td>\n",
       "      <td>16.62</td>\n",
       "      <td>254.4</td>\n",
       "      <td>103</td>\n",
       "      <td>11.45</td>\n",
       "      <td>13.7</td>\n",
       "      <td>3</td>\n",
       "      <td>3.70</td>\n",
       "      <td>1</td>\n",
       "      <td>False</td>\n",
       "    </tr>\n",
       "    <tr>\n",
       "      <th>2</th>\n",
       "      <td>NJ</td>\n",
       "      <td>137</td>\n",
       "      <td>415</td>\n",
       "      <td>358-1921</td>\n",
       "      <td>no</td>\n",
       "      <td>no</td>\n",
       "      <td>0</td>\n",
       "      <td>243.4</td>\n",
       "      <td>114</td>\n",
       "      <td>41.38</td>\n",
       "      <td>...</td>\n",
       "      <td>110</td>\n",
       "      <td>10.30</td>\n",
       "      <td>162.6</td>\n",
       "      <td>104</td>\n",
       "      <td>7.32</td>\n",
       "      <td>12.2</td>\n",
       "      <td>5</td>\n",
       "      <td>3.29</td>\n",
       "      <td>0</td>\n",
       "      <td>False</td>\n",
       "    </tr>\n",
       "    <tr>\n",
       "      <th>3</th>\n",
       "      <td>OH</td>\n",
       "      <td>84</td>\n",
       "      <td>408</td>\n",
       "      <td>375-9999</td>\n",
       "      <td>yes</td>\n",
       "      <td>no</td>\n",
       "      <td>0</td>\n",
       "      <td>299.4</td>\n",
       "      <td>71</td>\n",
       "      <td>50.90</td>\n",
       "      <td>...</td>\n",
       "      <td>88</td>\n",
       "      <td>5.26</td>\n",
       "      <td>196.9</td>\n",
       "      <td>89</td>\n",
       "      <td>8.86</td>\n",
       "      <td>6.6</td>\n",
       "      <td>7</td>\n",
       "      <td>1.78</td>\n",
       "      <td>2</td>\n",
       "      <td>False</td>\n",
       "    </tr>\n",
       "    <tr>\n",
       "      <th>4</th>\n",
       "      <td>OK</td>\n",
       "      <td>75</td>\n",
       "      <td>415</td>\n",
       "      <td>330-6626</td>\n",
       "      <td>yes</td>\n",
       "      <td>no</td>\n",
       "      <td>0</td>\n",
       "      <td>166.7</td>\n",
       "      <td>113</td>\n",
       "      <td>28.34</td>\n",
       "      <td>...</td>\n",
       "      <td>122</td>\n",
       "      <td>12.61</td>\n",
       "      <td>186.9</td>\n",
       "      <td>121</td>\n",
       "      <td>8.41</td>\n",
       "      <td>10.1</td>\n",
       "      <td>3</td>\n",
       "      <td>2.73</td>\n",
       "      <td>3</td>\n",
       "      <td>False</td>\n",
       "    </tr>\n",
       "  </tbody>\n",
       "</table>\n",
       "<p>5 rows × 21 columns</p>\n",
       "</div>"
      ],
      "text/plain": [
       "  state  account length  area code phone number international plan  \\\n",
       "0    KS             128        415     382-4657                 no   \n",
       "1    OH             107        415     371-7191                 no   \n",
       "2    NJ             137        415     358-1921                 no   \n",
       "3    OH              84        408     375-9999                yes   \n",
       "4    OK              75        415     330-6626                yes   \n",
       "\n",
       "  voice mail plan  number vmail messages  total day minutes  total day calls  \\\n",
       "0             yes                     25              265.1              110   \n",
       "1             yes                     26              161.6              123   \n",
       "2              no                      0              243.4              114   \n",
       "3              no                      0              299.4               71   \n",
       "4              no                      0              166.7              113   \n",
       "\n",
       "   total day charge  ...  total eve calls  total eve charge  \\\n",
       "0             45.07  ...               99             16.78   \n",
       "1             27.47  ...              103             16.62   \n",
       "2             41.38  ...              110             10.30   \n",
       "3             50.90  ...               88              5.26   \n",
       "4             28.34  ...              122             12.61   \n",
       "\n",
       "   total night minutes  total night calls  total night charge  \\\n",
       "0                244.7                 91               11.01   \n",
       "1                254.4                103               11.45   \n",
       "2                162.6                104                7.32   \n",
       "3                196.9                 89                8.86   \n",
       "4                186.9                121                8.41   \n",
       "\n",
       "   total intl minutes  total intl calls  total intl charge  \\\n",
       "0                10.0                 3               2.70   \n",
       "1                13.7                 3               3.70   \n",
       "2                12.2                 5               3.29   \n",
       "3                 6.6                 7               1.78   \n",
       "4                10.1                 3               2.73   \n",
       "\n",
       "   customer service calls  churn  \n",
       "0                       1  False  \n",
       "1                       1  False  \n",
       "2                       0  False  \n",
       "3                       2  False  \n",
       "4                       3  False  \n",
       "\n",
       "[5 rows x 21 columns]"
      ]
     },
     "execution_count": 290,
     "metadata": {},
     "output_type": "execute_result"
    }
   ],
   "source": [
    "# Displaying the first 5 rows of the data to get a representation of how the columns look like\n",
    "df.head()"
   ]
  },
  {
   "cell_type": "code",
   "execution_count": 291,
   "metadata": {},
   "outputs": [
    {
     "name": "stdout",
     "output_type": "stream",
     "text": [
      "There are 3333 rows and 21 columns in the dataset.\n"
     ]
    }
   ],
   "source": [
    "#Number of columns and rows of the dataset\n",
    "print(\"There are %d rows and %d columns in the dataset.\" %df.shape)"
   ]
  },
  {
   "cell_type": "code",
   "execution_count": 292,
   "metadata": {},
   "outputs": [],
   "source": [
    "# A function that checks for datatypes within the dataframe\n",
    "def check_data_types(dataframe):\n",
    "    data_types = dataframe.dtypes\n",
    "    print(data_types)"
   ]
  },
  {
   "cell_type": "code",
   "execution_count": 293,
   "metadata": {},
   "outputs": [
    {
     "name": "stdout",
     "output_type": "stream",
     "text": [
      "state                      object\n",
      "account length              int64\n",
      "area code                   int64\n",
      "phone number               object\n",
      "international plan         object\n",
      "voice mail plan            object\n",
      "number vmail messages       int64\n",
      "total day minutes         float64\n",
      "total day calls             int64\n",
      "total day charge          float64\n",
      "total eve minutes         float64\n",
      "total eve calls             int64\n",
      "total eve charge          float64\n",
      "total night minutes       float64\n",
      "total night calls           int64\n",
      "total night charge        float64\n",
      "total intl minutes        float64\n",
      "total intl calls            int64\n",
      "total intl charge         float64\n",
      "customer service calls      int64\n",
      "churn                        bool\n",
      "dtype: object\n"
     ]
    }
   ],
   "source": [
    "check_data_types(df)"
   ]
  },
  {
   "cell_type": "code",
   "execution_count": 294,
   "metadata": {},
   "outputs": [
    {
     "name": "stdout",
     "output_type": "stream",
     "text": [
      "There are 51 unique entries in the state Column, representing the number of states\n"
     ]
    }
   ],
   "source": [
    "# Number of States\n",
    "print(\"There are\", df[\"state\"].nunique(), \"unique entries in the state Column, representing the number of states\")"
   ]
  },
  {
   "attachments": {},
   "cell_type": "markdown",
   "metadata": {},
   "source": [
    "From the table above, the information above, the columns \"state\", \"international plan\", \"voice mail plan\" and \"churn\" have string values. \n",
    "\n",
    "The last three have values 'yes' and 'no' and are converted to 1 and 0 respectively to allow for numerical analysis \n",
    "\n",
    "The column \"state\" contains categorical data. For this column, there are two options of dealing with these values: \n",
    "1. Using One-hot encoding.\n",
    "2. Using LabelEncoder.\n",
    "\n",
    "LabelEncoder was selected to replace each unique State with a unique integer. It was selected over One-hot encoding as there are 51 unique values that would increase the number of columns, causing the dataset to be messy and would affect the analysis of the importance of features in the models.\n"
   ]
  },
  {
   "attachments": {},
   "cell_type": "markdown",
   "metadata": {},
   "source": [
    "## The Target Variable"
   ]
  },
  {
   "attachments": {},
   "cell_type": "markdown",
   "metadata": {},
   "source": [
    "The target variable is \"churn\". This project seeks to compare the effects of the different variables in respect to the 'churn'. In order to visualize the churn rate in the organization, a plot was created"
   ]
  },
  {
   "cell_type": "code",
   "execution_count": 295,
   "metadata": {},
   "outputs": [
    {
     "data": {
      "text/plain": [
       "False    2850\n",
       "True      483\n",
       "Name: churn, dtype: int64"
      ]
     },
     "execution_count": 295,
     "metadata": {},
     "output_type": "execute_result"
    }
   ],
   "source": [
    "df['churn'].value_counts()"
   ]
  },
  {
   "cell_type": "code",
   "execution_count": 296,
   "metadata": {},
   "outputs": [],
   "source": [
    "# A function to plot a pie chart to visualize churn rate\n",
    "\n",
    "def visualize_churn_rate(df):\n",
    "    churn_counts = df['churn'].value_counts()\n",
    "    labels = ['No Churn', 'Churn']\n",
    "    values = churn_counts.values\n",
    "\n",
    "    plt.pie(values, labels=labels, autopct=\"%1.1f%%\")\n",
    "    plt.title(\"VISUALIZATION OF THE CHURN RATE\")\n",
    "    plt.axis('equal')\n",
    "    plt.show()\n"
   ]
  },
  {
   "cell_type": "code",
   "execution_count": 297,
   "metadata": {},
   "outputs": [
    {
     "data": {
      "image/png": "[encoded data removed]",
      "text/plain": [
       "<Figure size 432x288 with 1 Axes>"
      ]
     },
     "metadata": {},
     "output_type": "display_data"
    }
   ],
   "source": [
    "# Visualizing the churn rate\n",
    "visualize_churn_rate(df)"
   ]
  },
  {
   "attachments": {},
   "cell_type": "markdown",
   "metadata": {},
   "source": [
    "From the chart shown above, there are more samples for customers without churn than for customers with churn. \n",
    "Therefore, there is a class imbalance for the target variable. This class imbalance could lead to predictive models which are biased towards the majority, i.e no churn. "
   ]
  },
  {
   "attachments": {},
   "cell_type": "markdown",
   "metadata": {},
   "source": [
    "## The Predictor Variables"
   ]
  },
  {
   "attachments": {},
   "cell_type": "markdown",
   "metadata": {},
   "source": [
    "The predictors available to us are:\n",
    "state, account length, area code, international plan, voice mail plan, number vmail messages, total day minutes, total dat calls, total day charge, total eve minutes, total eve calls, total eve charge, total night minutes, total night calls, total night charge, total intl minutes, total intl calls, total intl charge and customer service charge"
   ]
  },
  {
   "attachments": {},
   "cell_type": "markdown",
   "metadata": {},
   "source": [
    "# DATA PREPARATION"
   ]
  },
  {
   "attachments": {},
   "cell_type": "markdown",
   "metadata": {},
   "source": [
    "## Detecting and Dealing with missing values"
   ]
  },
  {
   "cell_type": "code",
   "execution_count": 298,
   "metadata": {},
   "outputs": [
    {
     "name": "stdout",
     "output_type": "stream",
     "text": [
      "There are 0 missing values in the dataset\n"
     ]
    }
   ],
   "source": [
    "#Checking for null and misssing values\n",
    "print(\"There are\", df.isnull().values.sum(), \"missing values in the dataset\")"
   ]
  },
  {
   "attachments": {},
   "cell_type": "markdown",
   "metadata": {},
   "source": [
    "## Data type conversions"
   ]
  },
  {
   "cell_type": "code",
   "execution_count": 299,
   "metadata": {},
   "outputs": [],
   "source": [
    "# A function that converts target variables that are of string data type to integers\n",
    "\n",
    "def encode_categorical_columns(df, column_names):\n",
    "    for column in column_names:\n",
    "        df[column] = df[column].apply(lambda x: 0 if x == \"no\" else 1)"
   ]
  },
  {
   "cell_type": "code",
   "execution_count": 300,
   "metadata": {},
   "outputs": [],
   "source": [
    "# Converting columns 'international plan' and 'voice mail plan' to 1s and 0s\n",
    "encode_categorical_columns(df, [\"international plan\", \"voice mail plan\"])"
   ]
  },
  {
   "cell_type": "code",
   "execution_count": 301,
   "metadata": {},
   "outputs": [],
   "source": [
    "# Funtion that converts categorical data to numeric through LabelEncoding\n",
    "from sklearn.preprocessing import LabelEncoder\n",
    "\n",
    "def encode_categorical_column(dataframe, column_name):\n",
    "    label_encoder = LabelEncoder()\n",
    "    dataframe[column_name] = label_encoder.fit_transform(dataframe[column_name])"
   ]
  },
  {
   "cell_type": "code",
   "execution_count": 302,
   "metadata": {},
   "outputs": [],
   "source": [
    "# Applying LabelEncoder to the column \"state\"\n",
    "encode_categorical_column(df, 'state')"
   ]
  },
  {
   "attachments": {},
   "cell_type": "markdown",
   "metadata": {},
   "source": [
    "## Checking for duplicate values"
   ]
  },
  {
   "cell_type": "code",
   "execution_count": 303,
   "metadata": {},
   "outputs": [],
   "source": [
    "# A function that checks for duplicate values in a column\n",
    "def count_duplicates(df, column_name):\n",
    "    duplicate_count = df.duplicated(subset=column_name).sum()\n",
    "    return duplicate_count"
   ]
  },
  {
   "attachments": {},
   "cell_type": "markdown",
   "metadata": {},
   "source": [
    "The phone number is a unique identifier and therefore, it should only contain unique entries"
   ]
  },
  {
   "cell_type": "code",
   "execution_count": 304,
   "metadata": {},
   "outputs": [
    {
     "name": "stdout",
     "output_type": "stream",
     "text": [
      "There are 0 duplicate values in the phone number column\n"
     ]
    }
   ],
   "source": [
    "# checking for duplicates in the \"phone number\" column\n",
    "duplicate_count = count_duplicates(df, \"phone number\")\n",
    "print(\"There are\", duplicate_count, \"duplicate values in the phone number column\")"
   ]
  },
  {
   "attachments": {},
   "cell_type": "markdown",
   "metadata": {},
   "source": [
    "## Exploratory data analysis"
   ]
  },
  {
   "attachments": {},
   "cell_type": "markdown",
   "metadata": {},
   "source": [
    "### Univariate anaysis"
   ]
  },
  {
   "cell_type": "code",
   "execution_count": 305,
   "metadata": {},
   "outputs": [
    {
     "data": {
      "text/html": [
       "<div>\n",
       "<style scoped>\n",
       "    .dataframe tbody tr th:only-of-type {\n",
       "        vertical-align: middle;\n",
       "    }\n",
       "\n",
       "    .dataframe tbody tr th {\n",
       "        vertical-align: top;\n",
       "    }\n",
       "\n",
       "    .dataframe thead th {\n",
       "        text-align: right;\n",
       "    }\n",
       "</style>\n",
       "<table border=\"1\" class=\"dataframe\">\n",
       "  <thead>\n",
       "    <tr style=\"text-align: right;\">\n",
       "      <th></th>\n",
       "      <th>state</th>\n",
       "      <th>account length</th>\n",
       "      <th>area code</th>\n",
       "      <th>international plan</th>\n",
       "      <th>voice mail plan</th>\n",
       "      <th>number vmail messages</th>\n",
       "      <th>total day minutes</th>\n",
       "      <th>total day calls</th>\n",
       "      <th>total day charge</th>\n",
       "      <th>total eve minutes</th>\n",
       "      <th>total eve calls</th>\n",
       "      <th>total eve charge</th>\n",
       "      <th>total night minutes</th>\n",
       "      <th>total night calls</th>\n",
       "      <th>total night charge</th>\n",
       "      <th>total intl minutes</th>\n",
       "      <th>total intl calls</th>\n",
       "      <th>total intl charge</th>\n",
       "      <th>customer service calls</th>\n",
       "    </tr>\n",
       "  </thead>\n",
       "  <tbody>\n",
       "    <tr>\n",
       "      <th>count</th>\n",
       "      <td>3333.000000</td>\n",
       "      <td>3333.000000</td>\n",
       "      <td>3333.000000</td>\n",
       "      <td>3333.000000</td>\n",
       "      <td>3333.000000</td>\n",
       "      <td>3333.000000</td>\n",
       "      <td>3333.000000</td>\n",
       "      <td>3333.000000</td>\n",
       "      <td>3333.000000</td>\n",
       "      <td>3333.000000</td>\n",
       "      <td>3333.000000</td>\n",
       "      <td>3333.000000</td>\n",
       "      <td>3333.000000</td>\n",
       "      <td>3333.000000</td>\n",
       "      <td>3333.000000</td>\n",
       "      <td>3333.000000</td>\n",
       "      <td>3333.000000</td>\n",
       "      <td>3333.000000</td>\n",
       "      <td>3333.000000</td>\n",
       "    </tr>\n",
       "    <tr>\n",
       "      <th>mean</th>\n",
       "      <td>26.059406</td>\n",
       "      <td>101.064806</td>\n",
       "      <td>437.182418</td>\n",
       "      <td>0.096910</td>\n",
       "      <td>0.276628</td>\n",
       "      <td>8.099010</td>\n",
       "      <td>179.775098</td>\n",
       "      <td>100.435644</td>\n",
       "      <td>30.562307</td>\n",
       "      <td>200.980348</td>\n",
       "      <td>100.114311</td>\n",
       "      <td>17.083540</td>\n",
       "      <td>200.872037</td>\n",
       "      <td>100.107711</td>\n",
       "      <td>9.039325</td>\n",
       "      <td>10.237294</td>\n",
       "      <td>4.479448</td>\n",
       "      <td>2.764581</td>\n",
       "      <td>1.562856</td>\n",
       "    </tr>\n",
       "    <tr>\n",
       "      <th>std</th>\n",
       "      <td>14.824911</td>\n",
       "      <td>39.822106</td>\n",
       "      <td>42.371290</td>\n",
       "      <td>0.295879</td>\n",
       "      <td>0.447398</td>\n",
       "      <td>13.688365</td>\n",
       "      <td>54.467389</td>\n",
       "      <td>20.069084</td>\n",
       "      <td>9.259435</td>\n",
       "      <td>50.713844</td>\n",
       "      <td>19.922625</td>\n",
       "      <td>4.310668</td>\n",
       "      <td>50.573847</td>\n",
       "      <td>19.568609</td>\n",
       "      <td>2.275873</td>\n",
       "      <td>2.791840</td>\n",
       "      <td>2.461214</td>\n",
       "      <td>0.753773</td>\n",
       "      <td>1.315491</td>\n",
       "    </tr>\n",
       "    <tr>\n",
       "      <th>min</th>\n",
       "      <td>0.000000</td>\n",
       "      <td>1.000000</td>\n",
       "      <td>408.000000</td>\n",
       "      <td>0.000000</td>\n",
       "      <td>0.000000</td>\n",
       "      <td>0.000000</td>\n",
       "      <td>0.000000</td>\n",
       "      <td>0.000000</td>\n",
       "      <td>0.000000</td>\n",
       "      <td>0.000000</td>\n",
       "      <td>0.000000</td>\n",
       "      <td>0.000000</td>\n",
       "      <td>23.200000</td>\n",
       "      <td>33.000000</td>\n",
       "      <td>1.040000</td>\n",
       "      <td>0.000000</td>\n",
       "      <td>0.000000</td>\n",
       "      <td>0.000000</td>\n",
       "      <td>0.000000</td>\n",
       "    </tr>\n",
       "    <tr>\n",
       "      <th>25%</th>\n",
       "      <td>14.000000</td>\n",
       "      <td>74.000000</td>\n",
       "      <td>408.000000</td>\n",
       "      <td>0.000000</td>\n",
       "      <td>0.000000</td>\n",
       "      <td>0.000000</td>\n",
       "      <td>143.700000</td>\n",
       "      <td>87.000000</td>\n",
       "      <td>24.430000</td>\n",
       "      <td>166.600000</td>\n",
       "      <td>87.000000</td>\n",
       "      <td>14.160000</td>\n",
       "      <td>167.000000</td>\n",
       "      <td>87.000000</td>\n",
       "      <td>7.520000</td>\n",
       "      <td>8.500000</td>\n",
       "      <td>3.000000</td>\n",
       "      <td>2.300000</td>\n",
       "      <td>1.000000</td>\n",
       "    </tr>\n",
       "    <tr>\n",
       "      <th>50%</th>\n",
       "      <td>26.000000</td>\n",
       "      <td>101.000000</td>\n",
       "      <td>415.000000</td>\n",
       "      <td>0.000000</td>\n",
       "      <td>0.000000</td>\n",
       "      <td>0.000000</td>\n",
       "      <td>179.400000</td>\n",
       "      <td>101.000000</td>\n",
       "      <td>30.500000</td>\n",
       "      <td>201.400000</td>\n",
       "      <td>100.000000</td>\n",
       "      <td>17.120000</td>\n",
       "      <td>201.200000</td>\n",
       "      <td>100.000000</td>\n",
       "      <td>9.050000</td>\n",
       "      <td>10.300000</td>\n",
       "      <td>4.000000</td>\n",
       "      <td>2.780000</td>\n",
       "      <td>1.000000</td>\n",
       "    </tr>\n",
       "    <tr>\n",
       "      <th>75%</th>\n",
       "      <td>39.000000</td>\n",
       "      <td>127.000000</td>\n",
       "      <td>510.000000</td>\n",
       "      <td>0.000000</td>\n",
       "      <td>1.000000</td>\n",
       "      <td>20.000000</td>\n",
       "      <td>216.400000</td>\n",
       "      <td>114.000000</td>\n",
       "      <td>36.790000</td>\n",
       "      <td>235.300000</td>\n",
       "      <td>114.000000</td>\n",
       "      <td>20.000000</td>\n",
       "      <td>235.300000</td>\n",
       "      <td>113.000000</td>\n",
       "      <td>10.590000</td>\n",
       "      <td>12.100000</td>\n",
       "      <td>6.000000</td>\n",
       "      <td>3.270000</td>\n",
       "      <td>2.000000</td>\n",
       "    </tr>\n",
       "    <tr>\n",
       "      <th>max</th>\n",
       "      <td>50.000000</td>\n",
       "      <td>243.000000</td>\n",
       "      <td>510.000000</td>\n",
       "      <td>1.000000</td>\n",
       "      <td>1.000000</td>\n",
       "      <td>51.000000</td>\n",
       "      <td>350.800000</td>\n",
       "      <td>165.000000</td>\n",
       "      <td>59.640000</td>\n",
       "      <td>363.700000</td>\n",
       "      <td>170.000000</td>\n",
       "      <td>30.910000</td>\n",
       "      <td>395.000000</td>\n",
       "      <td>175.000000</td>\n",
       "      <td>17.770000</td>\n",
       "      <td>20.000000</td>\n",
       "      <td>20.000000</td>\n",
       "      <td>5.400000</td>\n",
       "      <td>9.000000</td>\n",
       "    </tr>\n",
       "  </tbody>\n",
       "</table>\n",
       "</div>"
      ],
      "text/plain": [
       "             state  account length    area code  international plan  \\\n",
       "count  3333.000000     3333.000000  3333.000000         3333.000000   \n",
       "mean     26.059406      101.064806   437.182418            0.096910   \n",
       "std      14.824911       39.822106    42.371290            0.295879   \n",
       "min       0.000000        1.000000   408.000000            0.000000   \n",
       "25%      14.000000       74.000000   408.000000            0.000000   \n",
       "50%      26.000000      101.000000   415.000000            0.000000   \n",
       "75%      39.000000      127.000000   510.000000            0.000000   \n",
       "max      50.000000      243.000000   510.000000            1.000000   \n",
       "\n",
       "       voice mail plan  number vmail messages  total day minutes  \\\n",
       "count      3333.000000            3333.000000        3333.000000   \n",
       "mean          0.276628               8.099010         179.775098   \n",
       "std           0.447398              13.688365          54.467389   \n",
       "min           0.000000               0.000000           0.000000   \n",
       "25%           0.000000               0.000000         143.700000   \n",
       "50%           0.000000               0.000000         179.400000   \n",
       "75%           1.000000              20.000000         216.400000   \n",
       "max           1.000000              51.000000         350.800000   \n",
       "\n",
       "       total day calls  total day charge  total eve minutes  total eve calls  \\\n",
       "count      3333.000000       3333.000000        3333.000000      3333.000000   \n",
       "mean        100.435644         30.562307         200.980348       100.114311   \n",
       "std          20.069084          9.259435          50.713844        19.922625   \n",
       "min           0.000000          0.000000           0.000000         0.000000   \n",
       "25%          87.000000         24.430000         166.600000        87.000000   \n",
       "50%         101.000000         30.500000         201.400000       100.000000   \n",
       "75%         114.000000         36.790000         235.300000       114.000000   \n",
       "max         165.000000         59.640000         363.700000       170.000000   \n",
       "\n",
       "       total eve charge  total night minutes  total night calls  \\\n",
       "count       3333.000000          3333.000000        3333.000000   \n",
       "mean          17.083540           200.872037         100.107711   \n",
       "std            4.310668            50.573847          19.568609   \n",
       "min            0.000000            23.200000          33.000000   \n",
       "25%           14.160000           167.000000          87.000000   \n",
       "50%           17.120000           201.200000         100.000000   \n",
       "75%           20.000000           235.300000         113.000000   \n",
       "max           30.910000           395.000000         175.000000   \n",
       "\n",
       "       total night charge  total intl minutes  total intl calls  \\\n",
       "count         3333.000000         3333.000000       3333.000000   \n",
       "mean             9.039325           10.237294          4.479448   \n",
       "std              2.275873            2.791840          2.461214   \n",
       "min              1.040000            0.000000          0.000000   \n",
       "25%              7.520000            8.500000          3.000000   \n",
       "50%              9.050000           10.300000          4.000000   \n",
       "75%             10.590000           12.100000          6.000000   \n",
       "max             17.770000           20.000000         20.000000   \n",
       "\n",
       "       total intl charge  customer service calls  \n",
       "count        3333.000000             3333.000000  \n",
       "mean            2.764581                1.562856  \n",
       "std             0.753773                1.315491  \n",
       "min             0.000000                0.000000  \n",
       "25%             2.300000                1.000000  \n",
       "50%             2.780000                1.000000  \n",
       "75%             3.270000                2.000000  \n",
       "max             5.400000                9.000000  "
      ]
     },
     "execution_count": 305,
     "metadata": {},
     "output_type": "execute_result"
    }
   ],
   "source": [
    "# Statistical overview of the data\n",
    "df.describe()"
   ]
  },
  {
   "attachments": {},
   "cell_type": "markdown",
   "metadata": {},
   "source": [
    "Creating some graphs to visualize the figures in the table above"
   ]
  },
  {
   "cell_type": "code",
   "execution_count": 306,
   "metadata": {},
   "outputs": [
    {
     "data": {
      "image/png": "[encoded data removed]",
      "text/plain": [
       "<Figure size 1152x864 with 20 Axes>"
      ]
     },
     "metadata": {
      "needs_background": "light"
     },
     "output_type": "display_data"
    }
   ],
   "source": [
    "# distribution of features\n",
    "df.drop(columns='churn').hist(figsize=(16,12));"
   ]
  },
  {
   "attachments": {},
   "cell_type": "markdown",
   "metadata": {},
   "source": [
    "From the plots displayed above:\n",
    "\n",
    "1. The scale used across the features is different. Therefore, scaling techniques will be applied to ensure eqaul treatment of features during model training.\n",
    "2. Features such as 'total intl calls', 'customer service calls'are not normally distributed. They will be normalized\n"
   ]
  },
  {
   "attachments": {},
   "cell_type": "markdown",
   "metadata": {},
   "source": [
    "### Multivariate analysis"
   ]
  },
  {
   "attachments": {},
   "cell_type": "markdown",
   "metadata": {},
   "source": [
    "#### Checking for correlation"
   ]
  },
  {
   "cell_type": "code",
   "execution_count": 307,
   "metadata": {},
   "outputs": [
    {
     "data": {
      "image/png": "[encoded data removed]",
      "text/plain": [
       "<Figure size 864x864 with 2 Axes>"
      ]
     },
     "metadata": {
      "needs_background": "light"
     },
     "output_type": "display_data"
    }
   ],
   "source": [
    "# Plotting a heatmap\n",
    "fig, ax = plt.subplots(figsize=(12,12))\n",
    "mask = np.triu(np.ones_like(df.corr(), dtype=bool))\n",
    "sns.heatmap(df.corr(), linewidths=0.5, mask=mask, square=True, ax=ax, annot=True);"
   ]
  },
  {
   "attachments": {},
   "cell_type": "markdown",
   "metadata": {},
   "source": [
    "From the heatmap above:\n",
    "\n",
    "1. There is a very low correlation between most features. \n",
    "2. Five pairs show high correlation. These are:\n",
    "- Voice mail messages and voice mail plan (0.96)\n",
    "- Total day charge and total day minutes (1)\n",
    "- Total evening charge and total evening minutes (1)\n",
    "- Total night charge and total night minutes (1)\n",
    "- Total international charge and total international minutes (1)\n",
    "\n",
    "These pairs of features display multicollinearity\n"
   ]
  },
  {
   "attachments": {},
   "cell_type": "markdown",
   "metadata": {},
   "source": [
    "The correlations can be explained by:\n",
    "The charges are proportional to the number of minutes the customer spends on a call. Therefore, these charges depend on the number of minutes a customer spends on a call and therefore, they can be dropped"
   ]
  },
  {
   "cell_type": "code",
   "execution_count": 308,
   "metadata": {},
   "outputs": [],
   "source": [
    "# dropping columns\n",
    "df.drop(columns = ['total day charge', 'total eve charge', 'total night charge', 'total intl charge'], inplace = True)\n"
   ]
  },
  {
   "attachments": {},
   "cell_type": "markdown",
   "metadata": {},
   "source": [
    "# Modeling"
   ]
  },
  {
   "attachments": {},
   "cell_type": "markdown",
   "metadata": {},
   "source": [
    "The project is a binary classifier task. To solve this problem, the models that will be tried are:\n",
    "1. Logistic regression\n",
    "2. K-Nearest Neighbours\n",
    "3. Decision Trees\n",
    "4. Random Forest\n",
    "5. Support Vector Machine"
   ]
  },
  {
   "attachments": {},
   "cell_type": "markdown",
   "metadata": {},
   "source": [
    "### Train-test split"
   ]
  },
  {
   "cell_type": "code",
   "execution_count": 309,
   "metadata": {},
   "outputs": [],
   "source": [
    "# Defining y and X vairables\n",
    "y = df['churn']\n",
    "X = df.drop(columns=['churn', 'phone number'])\n",
    "\n",
    "# splitting the data into train and test sets\n",
    "X_train, X_test, y_train, y_test = train_test_split(X, y, test_size=0.25, random_state=123)"
   ]
  },
  {
   "cell_type": "code",
   "execution_count": 310,
   "metadata": {},
   "outputs": [
    {
     "data": {
      "text/html": [
       "<div>\n",
       "<style scoped>\n",
       "    .dataframe tbody tr th:only-of-type {\n",
       "        vertical-align: middle;\n",
       "    }\n",
       "\n",
       "    .dataframe tbody tr th {\n",
       "        vertical-align: top;\n",
       "    }\n",
       "\n",
       "    .dataframe thead th {\n",
       "        text-align: right;\n",
       "    }\n",
       "</style>\n",
       "<table border=\"1\" class=\"dataframe\">\n",
       "  <thead>\n",
       "    <tr style=\"text-align: right;\">\n",
       "      <th></th>\n",
       "      <th>state</th>\n",
       "      <th>account length</th>\n",
       "      <th>area code</th>\n",
       "      <th>international plan</th>\n",
       "      <th>voice mail plan</th>\n",
       "      <th>number vmail messages</th>\n",
       "      <th>total day minutes</th>\n",
       "      <th>total day calls</th>\n",
       "      <th>total eve minutes</th>\n",
       "      <th>total eve calls</th>\n",
       "      <th>total night minutes</th>\n",
       "      <th>total night calls</th>\n",
       "      <th>total intl minutes</th>\n",
       "      <th>total intl calls</th>\n",
       "      <th>customer service calls</th>\n",
       "    </tr>\n",
       "  </thead>\n",
       "  <tbody>\n",
       "    <tr>\n",
       "      <th>1066</th>\n",
       "      <td>16</td>\n",
       "      <td>117</td>\n",
       "      <td>510</td>\n",
       "      <td>0</td>\n",
       "      <td>1</td>\n",
       "      <td>25</td>\n",
       "      <td>216.0</td>\n",
       "      <td>140</td>\n",
       "      <td>224.1</td>\n",
       "      <td>69</td>\n",
       "      <td>267.9</td>\n",
       "      <td>112</td>\n",
       "      <td>11.8</td>\n",
       "      <td>4</td>\n",
       "      <td>0</td>\n",
       "    </tr>\n",
       "    <tr>\n",
       "      <th>1553</th>\n",
       "      <td>5</td>\n",
       "      <td>86</td>\n",
       "      <td>415</td>\n",
       "      <td>0</td>\n",
       "      <td>0</td>\n",
       "      <td>0</td>\n",
       "      <td>217.8</td>\n",
       "      <td>93</td>\n",
       "      <td>214.7</td>\n",
       "      <td>95</td>\n",
       "      <td>228.7</td>\n",
       "      <td>70</td>\n",
       "      <td>11.3</td>\n",
       "      <td>7</td>\n",
       "      <td>0</td>\n",
       "    </tr>\n",
       "    <tr>\n",
       "      <th>2628</th>\n",
       "      <td>42</td>\n",
       "      <td>37</td>\n",
       "      <td>415</td>\n",
       "      <td>0</td>\n",
       "      <td>0</td>\n",
       "      <td>0</td>\n",
       "      <td>221.0</td>\n",
       "      <td>126</td>\n",
       "      <td>204.5</td>\n",
       "      <td>110</td>\n",
       "      <td>118.0</td>\n",
       "      <td>98</td>\n",
       "      <td>6.8</td>\n",
       "      <td>3</td>\n",
       "      <td>4</td>\n",
       "    </tr>\n",
       "    <tr>\n",
       "      <th>882</th>\n",
       "      <td>9</td>\n",
       "      <td>130</td>\n",
       "      <td>415</td>\n",
       "      <td>0</td>\n",
       "      <td>0</td>\n",
       "      <td>0</td>\n",
       "      <td>162.8</td>\n",
       "      <td>113</td>\n",
       "      <td>290.3</td>\n",
       "      <td>111</td>\n",
       "      <td>114.9</td>\n",
       "      <td>140</td>\n",
       "      <td>7.2</td>\n",
       "      <td>3</td>\n",
       "      <td>1</td>\n",
       "    </tr>\n",
       "    <tr>\n",
       "      <th>984</th>\n",
       "      <td>33</td>\n",
       "      <td>77</td>\n",
       "      <td>415</td>\n",
       "      <td>0</td>\n",
       "      <td>0</td>\n",
       "      <td>0</td>\n",
       "      <td>142.3</td>\n",
       "      <td>112</td>\n",
       "      <td>306.3</td>\n",
       "      <td>111</td>\n",
       "      <td>196.5</td>\n",
       "      <td>82</td>\n",
       "      <td>9.9</td>\n",
       "      <td>1</td>\n",
       "      <td>1</td>\n",
       "    </tr>\n",
       "  </tbody>\n",
       "</table>\n",
       "</div>"
      ],
      "text/plain": [
       "      state  account length  area code  international plan  voice mail plan  \\\n",
       "1066     16             117        510                   0                1   \n",
       "1553      5              86        415                   0                0   \n",
       "2628     42              37        415                   0                0   \n",
       "882       9             130        415                   0                0   \n",
       "984      33              77        415                   0                0   \n",
       "\n",
       "      number vmail messages  total day minutes  total day calls  \\\n",
       "1066                     25              216.0              140   \n",
       "1553                      0              217.8               93   \n",
       "2628                      0              221.0              126   \n",
       "882                       0              162.8              113   \n",
       "984                       0              142.3              112   \n",
       "\n",
       "      total eve minutes  total eve calls  total night minutes  \\\n",
       "1066              224.1               69                267.9   \n",
       "1553              214.7               95                228.7   \n",
       "2628              204.5              110                118.0   \n",
       "882               290.3              111                114.9   \n",
       "984               306.3              111                196.5   \n",
       "\n",
       "      total night calls  total intl minutes  total intl calls  \\\n",
       "1066                112                11.8                 4   \n",
       "1553                 70                11.3                 7   \n",
       "2628                 98                 6.8                 3   \n",
       "882                 140                 7.2                 3   \n",
       "984                  82                 9.9                 1   \n",
       "\n",
       "      customer service calls  \n",
       "1066                       0  \n",
       "1553                       0  \n",
       "2628                       4  \n",
       "882                        1  \n",
       "984                        1  "
      ]
     },
     "execution_count": 310,
     "metadata": {},
     "output_type": "execute_result"
    }
   ],
   "source": [
    "# preview of X_train\n",
    "X_train.head()"
   ]
  },
  {
   "attachments": {},
   "cell_type": "markdown",
   "metadata": {},
   "source": [
    "## Handling the class imbalance problem"
   ]
  },
  {
   "attachments": {},
   "cell_type": "markdown",
   "metadata": {},
   "source": [
    "To handle the class imbalance problem, SMOTE (Synthetic Minority Over-sampling Techtique) is used.\n",
    "\n",
    "A ratio of 1 is used to balnce the number of true and false statements"
   ]
  },
  {
   "cell_type": "code",
   "execution_count": 311,
   "metadata": {},
   "outputs": [],
   "source": [
    "# Applying Synthetic Minority Over sampling technique to the datat\n",
    "smote = SMOTE(random_state=123)\n",
    "X_train_resampled, y_train_resampled = smote.fit_resample(X_train, y_train) \n"
   ]
  },
  {
   "cell_type": "code",
   "execution_count": 312,
   "metadata": {},
   "outputs": [],
   "source": [
    "# pie chart showing distribution of target variables before and after SMOTE:\n",
    "\n",
    "\n",
    "def plot_churn_distribution(df, y_train_resampled):\n",
    "    fig, (ax1, ax2) = plt.subplots(1, 2, figsize=(12, 5))\n",
    "\n",
    "    # First pie chart\n",
    "    churn_counts = df['churn'].value_counts()\n",
    "    labels = ['No Churn', 'Churn']\n",
    "    values = churn_counts.values\n",
    "    ax1.pie(values, labels=labels, autopct=\"%1.1f%%\")\n",
    "    ax1.set_title('Churn Rate before SMOTE')\n",
    "\n",
    "    # Second pie chart\n",
    "    churn_counts1 = y_train_resampled.value_counts()\n",
    "    labels1 = ['No Churn', 'Churn']\n",
    "    values1 = churn_counts1.values\n",
    "    ax2.pie(values1, labels = labels1, autopct = '%.2f')\n",
    "    ax2.set_title('Churn rate after SMOTE on training set')\n",
    "\n",
    "\n",
    "    plt.tight_layout()\n",
    "    plt.show()\n",
    "\n"
   ]
  },
  {
   "cell_type": "code",
   "execution_count": 313,
   "metadata": {},
   "outputs": [
    {
     "data": {
      "image/png": "[encoded data removed]",
      "text/plain": [
       "<Figure size 864x360 with 2 Axes>"
      ]
     },
     "metadata": {},
     "output_type": "display_data"
    }
   ],
   "source": [
    "plot_churn_distribution(df, y_train_resampled)"
   ]
  },
  {
   "attachments": {},
   "cell_type": "markdown",
   "metadata": {},
   "source": [
    "Checking distribution on test data to ensure SMOTE was not applied"
   ]
  },
  {
   "cell_type": "code",
   "execution_count": 314,
   "metadata": {},
   "outputs": [],
   "source": [
    "def plot_y_test_distribution(y_test):\n",
    "    churn_counts = y_test.value_counts()\n",
    "    labels = ['No Churn', 'Churn']\n",
    "    values = churn_counts.values\n",
    "\n",
    "    # Replace True with 'Churn' and False with 'No Churn'\n",
    "    labels = ['No Churn' if label == False else 'Churn' for label in labels]\n",
    "\n",
    "    plt.pie(values, labels=labels, autopct='%1.1f%%')\n",
    "    plt.title('Churn Distribution in y_test')\n",
    "    plt.axis('equal')\n",
    "    plt.show()"
   ]
  },
  {
   "cell_type": "code",
   "execution_count": 315,
   "metadata": {},
   "outputs": [
    {
     "data": {
      "image/png": "[encoded data removed]",
      "text/plain": [
       "<Figure size 432x288 with 1 Axes>"
      ]
     },
     "metadata": {},
     "output_type": "display_data"
    }
   ],
   "source": [
    "plot_y_test_distribution(y_test)"
   ]
  },
  {
   "attachments": {},
   "cell_type": "markdown",
   "metadata": {},
   "source": [
    "The testing set therefore maintained an accurate distribution of the sample dataset"
   ]
  },
  {
   "attachments": {},
   "cell_type": "markdown",
   "metadata": {},
   "source": [
    "## Creating the base Model"
   ]
  },
  {
   "attachments": {},
   "cell_type": "markdown",
   "metadata": {},
   "source": [
    "### Logistic regression is used to create the base model"
   ]
  },
  {
   "attachments": {},
   "cell_type": "markdown",
   "metadata": {},
   "source": [
    "In order to address the scaling problem, a pipeline that consists of two steps was created. these steps are:\n",
    "- Scaling using 'StandardScaler' \n",
    "- Logistic regression using 'LogisticRegression'\n"
   ]
  },
  {
   "cell_type": "code",
   "execution_count": 316,
   "metadata": {},
   "outputs": [],
   "source": [
    "# A function of a pipeline that creates a linear regression model after standardizing the features\n",
    "def train_logistic_regression(X_train_resampled, y_train_resampled):\n",
    "    pipe_log = Pipeline(steps=[('scale', StandardScaler()), ('logreg', LogisticRegression(fit_intercept=False, solver='liblinear'))])\n",
    "    pipe_log.fit(X_train_resampled, y_train_resampled)\n",
    "    return pipe_log"
   ]
  },
  {
   "cell_type": "code",
   "execution_count": 317,
   "metadata": {},
   "outputs": [],
   "source": [
    "logistic_regresssion_model = train_logistic_regression(X_train_resampled, y_train_resampled)"
   ]
  },
  {
   "cell_type": "code",
   "execution_count": 318,
   "metadata": {},
   "outputs": [],
   "source": [
    "# Defining a function that evaluates the performance of the model\n",
    "def evaluate(model, X_test, y_test):\n",
    "    y_train_preds = model.predict(X_train_resampled)\n",
    "    y_test_preds = model.predict(X_test)\n",
    "    print('Recall_score: ')\n",
    "    print('Train: ', recall_score(y_train_resampled, y_train_preds))\n",
    "    print('Test: ', recall_score(y_test, y_test_preds))\n",
    "    print('\\nPrecision_score: ')\n",
    "    print('Train: ', precision_score(y_train_resampled, y_train_preds))\n",
    "    print('Test: ', precision_score(y_test, y_test_preds))\n",
    "    print('\\nAccuracy_score: ')\n",
    "    print('Train: ', accuracy_score(y_train_resampled, y_train_preds))\n",
    "    print('Test: ', accuracy_score(y_test, y_test_preds))\n",
    "\n",
    "    cm = confusion_matrix(y_test, y_test_preds, labels=model.classes_)\n",
    "\n",
    "    disp = ConfusionMatrixDisplay(confusion_matrix=cm, display_labels=model.classes_)\n",
    "    \n",
    "    disp.plot();"
   ]
  },
  {
   "cell_type": "code",
   "execution_count": 319,
   "metadata": {},
   "outputs": [
    {
     "name": "stdout",
     "output_type": "stream",
     "text": [
      "Recall_score: \n",
      "Train:  0.7860836859426422\n",
      "Test:  0.7297297297297297\n",
      "\n",
      "Precision_score: \n",
      "Train:  0.7339771729587358\n",
      "Test:  0.29136690647482016\n",
      "\n",
      "Accuracy_score: \n",
      "Train:  0.7505876821814763\n",
      "Test:  0.7278177458033573\n"
     ]
    },
    {
     "data": {
      "image/png": "[encoded data removed]",
      "text/plain": [
       "<Figure size 432x288 with 2 Axes>"
      ]
     },
     "metadata": {
      "needs_background": "light"
     },
     "output_type": "display_data"
    }
   ],
   "source": [
    "# Evaluating the performance of the model\n",
    "evaluate(pipe_log, X_test, y_test)"
   ]
  },
  {
   "attachments": {},
   "cell_type": "markdown",
   "metadata": {},
   "source": [
    "From the results displayed above:\n",
    "\n",
    "1. The metrics displayed by the Recall score, the Precision score and the Accuracy score are higher in all instances for the Training set compared to the Testing set.\n",
    "- This shows that the model is overfitting.\n",
    "2. From the Confusion Matrix:\n",
    "- The False positives are 197. This shows that the model is predicting a higher churn rate than is actually true, and therefore is performing poorly\n"
   ]
  },
  {
   "attachments": {},
   "cell_type": "markdown",
   "metadata": {},
   "source": [
    "To improve the predictions, Different other types of models were created. These include:\n",
    "1. KNN (K Nearest Neigbours)\n",
    "2. Decision Trees\n",
    "3. Random Forest\n",
    "4. Support Vector Machine"
   ]
  },
  {
   "attachments": {},
   "cell_type": "markdown",
   "metadata": {},
   "source": [
    "### K Nearest Neigbours Model"
   ]
  },
  {
   "cell_type": "code",
   "execution_count": 320,
   "metadata": {},
   "outputs": [
    {
     "data": {
      "text/plain": [
       "Pipeline(steps=[('scale', StandardScaler()), ('clf', KNeighborsClassifier())])"
      ]
     },
     "execution_count": 320,
     "metadata": {},
     "output_type": "execute_result"
    }
   ],
   "source": [
    "# A function of a pipeline that creates a KNN model after standardizing the features\n",
    "pipe_knn = Pipeline([\n",
    "    ('scale', StandardScaler()),\n",
    "    ('clf', KNeighborsClassifier())\n",
    "])\n",
    "\n",
    "# Fitting the pipeline to the resampled training data\n",
    "pipe_knn.fit(X_train_resampled, y_train_resampled)\n",
    "\n"
   ]
  },
  {
   "cell_type": "code",
   "execution_count": 321,
   "metadata": {},
   "outputs": [
    {
     "name": "stdout",
     "output_type": "stream",
     "text": [
      "Recall_score: \n",
      "Train:  0.9797837329572168\n",
      "Test:  0.6306306306306306\n",
      "\n",
      "Precision_score: \n",
      "Train:  0.872331519464211\n",
      "Test:  0.2928870292887029\n",
      "\n",
      "Accuracy_score: \n",
      "Train:  0.918194640338505\n",
      "Test:  0.7482014388489209\n"
     ]
    },
    {
     "data": {
      "image/png": "[encoded data removed]",
      "text/plain": [
       "<Figure size 432x288 with 2 Axes>"
      ]
     },
     "metadata": {
      "needs_background": "light"
     },
     "output_type": "display_data"
    }
   ],
   "source": [
    "# evaluating the performance of the model\n",
    "evaluate(pipe_knn, X_test, y_test)"
   ]
  },
  {
   "attachments": {},
   "cell_type": "markdown",
   "metadata": {},
   "source": [
    "### Decision Tree Model"
   ]
  },
  {
   "cell_type": "code",
   "execution_count": 322,
   "metadata": {},
   "outputs": [
    {
     "data": {
      "text/plain": [
       "Pipeline(steps=[('scale', StandardScaler()),\n",
       "                ('clf',\n",
       "                 DecisionTreeClassifier(criterion='entropy', random_state=42))])"
      ]
     },
     "execution_count": 322,
     "metadata": {},
     "output_type": "execute_result"
    }
   ],
   "source": [
    "# A function of a pipeline that creates a Decision Tree model after standardizing the features\n",
    "pipe_dt = Pipeline(steps=[('scale', StandardScaler()), ('clf', DecisionTreeClassifier(criterion='entropy', random_state=42))])\n",
    "pipe_dt.fit(X_train_resampled, y_train_resampled)"
   ]
  },
  {
   "cell_type": "code",
   "execution_count": 323,
   "metadata": {},
   "outputs": [
    {
     "name": "stdout",
     "output_type": "stream",
     "text": [
      "Recall_score: \n",
      "Train:  1.0\n",
      "Test:  0.7567567567567568\n",
      "\n",
      "Precision_score: \n",
      "Train:  1.0\n",
      "Test:  0.48554913294797686\n",
      "\n",
      "Accuracy_score: \n",
      "Train:  1.0\n",
      "Test:  0.8609112709832134\n"
     ]
    },
    {
     "data": {
      "image/png": "[encoded data removed]",
      "text/plain": [
       "<Figure size 432x288 with 2 Axes>"
      ]
     },
     "metadata": {
      "needs_background": "light"
     },
     "output_type": "display_data"
    }
   ],
   "source": [
    "# evaluate the performance of the model\n",
    "evaluate(pipe_dt, X_test, y_test)"
   ]
  },
  {
   "attachments": {},
   "cell_type": "markdown",
   "metadata": {},
   "source": [
    "The decision tree model has a higher performance compared to the baseline model. However, the model is overfitting."
   ]
  },
  {
   "cell_type": "code",
   "execution_count": 324,
   "metadata": {},
   "outputs": [
    {
     "data": {
      "text/plain": [
       "[('scale', StandardScaler()),\n",
       " ('clf', DecisionTreeClassifier(criterion='entropy', random_state=42))]"
      ]
     },
     "execution_count": 324,
     "metadata": {},
     "output_type": "execute_result"
    }
   ],
   "source": [
    "# checking the pipeline steps to note model position\n",
    "pipe_dt.steps"
   ]
  },
  {
   "attachments": {},
   "cell_type": "markdown",
   "metadata": {},
   "source": [
    "To attempt to improve the performance of the model, a plot was made of the most important features in the model:"
   ]
  },
  {
   "cell_type": "code",
   "execution_count": 325,
   "metadata": {},
   "outputs": [
    {
     "data": {
      "image/png": "[encoded data removed]",
      "text/plain": [
       "<Figure size 720x1080 with 1 Axes>"
      ]
     },
     "metadata": {
      "needs_background": "light"
     },
     "output_type": "display_data"
    }
   ],
   "source": [
    "# A function that plots importance of features in ascending order\n",
    "def plot_feature_importances(pipe, figsize):\n",
    "    model = pipe.steps[1][1]\n",
    "    importances = model.feature_importances_\n",
    "    feature_names = X_train_resampled.columns\n",
    "    sorted_indices = np.argsort(importances)[::-1]  # Sort indices in descending order\n",
    "    sorted_importances = importances[sorted_indices]\n",
    "    sorted_feature_names = feature_names[sorted_indices]\n",
    "    \n",
    "    plt.figure(figsize=figsize)\n",
    "    plt.barh(sorted_feature_names, sorted_importances)\n",
    "    plt.xlabel('Feature importance')\n",
    "    plt.ylabel('Feature')\n",
    "\n",
    "plot_feature_importances(pipe_dt, (10, 15))"
   ]
  },
  {
   "attachments": {},
   "cell_type": "markdown",
   "metadata": {},
   "source": [
    "total day minutes is an important factor in determining whether a customer would churn or not, followed by total evening minutes and customer service calls. State has the least importance in predicting customer churn."
   ]
  },
  {
   "attachments": {},
   "cell_type": "markdown",
   "metadata": {},
   "source": [
    "#### Hyperparameter tuning of the Decision Tree model"
   ]
  },
  {
   "attachments": {},
   "cell_type": "markdown",
   "metadata": {},
   "source": [
    "The hyperparameters of the decision tree including max_depth, min_samples_leaf, min_samples_split can be tuned to early stop the growth of the tree and prevent the model from overfitting."
   ]
  },
  {
   "cell_type": "code",
   "execution_count": 326,
   "metadata": {},
   "outputs": [
    {
     "data": {
      "text/plain": [
       "GridSearchCV(cv=4,\n",
       "             estimator=Pipeline(steps=[('scale', StandardScaler()),\n",
       "                                       ('clf',\n",
       "                                        DecisionTreeClassifier(criterion='entropy',\n",
       "                                                               random_state=42))]),\n",
       "             param_grid={'clf__criterion': ['gini', 'entropy'],\n",
       "                         'clf__max_depth': range(14, 32, 2),\n",
       "                         'clf__max_features': [11, 13, 15],\n",
       "                         'clf__min_samples_leaf': [2, 3, 5, 7, 10],\n",
       "                         'clf__min_samples_split': range(2, 10, 2)},\n",
       "             scoring='recall')"
      ]
     },
     "execution_count": 326,
     "metadata": {},
     "output_type": "execute_result"
    }
   ],
   "source": [
    "# hyperparameter tuning using GridSearchCV\n",
    "params_dt = {'clf__criterion': ['gini', 'entropy'],\n",
    "             'clf__max_depth': range(14, 32, 2),\n",
    "             'clf__min_samples_split' : range(2, 10, 2),\n",
    "             'clf__min_samples_leaf': [2, 3, 5, 7, 10],\n",
    "             'clf__max_features': [11, 13, 15]\n",
    "}\n",
    "\n",
    "gridsearch_dt = GridSearchCV(pipe_dt, params_dt, cv=4, scoring='recall')\n",
    "gridsearch_dt.fit(X_train_resampled, y_train_resampled)"
   ]
  },
  {
   "cell_type": "code",
   "execution_count": 327,
   "metadata": {},
   "outputs": [
    {
     "name": "stdout",
     "output_type": "stream",
     "text": [
      "Optimal parameters: {'clf__criterion': 'entropy', 'clf__max_depth': 28, 'clf__max_features': 15, 'clf__min_samples_leaf': 3, 'clf__min_samples_split': 2}\n",
      "Validation recall: 0.8913951545530493\n"
     ]
    }
   ],
   "source": [
    "# parameters that gave the best result\n",
    "print(f'Optimal parameters: {gridsearch_dt.best_params_}')\n",
    "\n",
    "# Mean cross-validated score of the best_estimator\n",
    "print(f'Validation recall: {gridsearch_dt.best_score_}')"
   ]
  },
  {
   "cell_type": "code",
   "execution_count": 328,
   "metadata": {},
   "outputs": [
    {
     "name": "stdout",
     "output_type": "stream",
     "text": [
      "Recall_score: \n",
      "Train:  0.9793135872120358\n",
      "Test:  0.7657657657657657\n",
      "\n",
      "Precision_score: \n",
      "Train:  0.9806967984934086\n",
      "Test:  0.47752808988764045\n",
      "\n",
      "Accuracy_score: \n",
      "Train:  0.9800188058298073\n",
      "Test:  0.8573141486810552\n"
     ]
    },
    {
     "data": {
      "image/png": "[encoded data removed]",
      "text/plain": [
       "<Figure size 432x288 with 2 Axes>"
      ]
     },
     "metadata": {
      "needs_background": "light"
     },
     "output_type": "display_data"
    }
   ],
   "source": [
    "# evaluate the performance of the model\n",
    "evaluate(gridsearch_dt, X_test, y_test)"
   ]
  },
  {
   "attachments": {},
   "cell_type": "markdown",
   "metadata": {},
   "source": [
    "On tuning the model, the model is performing better based on the recall score. However, the precision score is slightly low. There is a decrease in the difference between the train scores and the test scores(overfitting reduced)."
   ]
  },
  {
   "attachments": {},
   "cell_type": "markdown",
   "metadata": {},
   "source": [
    "### Random forest"
   ]
  },
  {
   "attachments": {},
   "cell_type": "markdown",
   "metadata": {},
   "source": [
    "Random forest is used since it is naturally resistant to noise and variance."
   ]
  },
  {
   "cell_type": "code",
   "execution_count": 329,
   "metadata": {},
   "outputs": [
    {
     "data": {
      "text/plain": [
       "Pipeline(steps=[('scale', StandardScaler()),\n",
       "                ('rf', RandomForestClassifier(random_state=42))])"
      ]
     },
     "execution_count": 329,
     "metadata": {},
     "output_type": "execute_result"
    }
   ],
   "source": [
    "# create a pipeline\n",
    "pipe_rf = Pipeline(steps=[('scale', StandardScaler()), ('rf', RandomForestClassifier(random_state=42))])\n",
    "pipe_rf.fit(X_train_resampled, y_train_resampled)"
   ]
  },
  {
   "cell_type": "code",
   "execution_count": 330,
   "metadata": {},
   "outputs": [
    {
     "name": "stdout",
     "output_type": "stream",
     "text": [
      "Recall_score: \n",
      "Train:  1.0\n",
      "Test:  0.6216216216216216\n",
      "\n",
      "Precision_score: \n",
      "Train:  1.0\n",
      "Test:  0.75\n",
      "\n",
      "Accuracy_score: \n",
      "Train:  1.0\n",
      "Test:  0.9220623501199041\n"
     ]
    },
    {
     "data": {
      "image/png": "[encoded data removed]",
      "text/plain": [
       "<Figure size 432x288 with 2 Axes>"
      ]
     },
     "metadata": {
      "needs_background": "light"
     },
     "output_type": "display_data"
    }
   ],
   "source": [
    "# evaluate model performance\n",
    "evaluate(pipe_rf, X_test, y_test)"
   ]
  },
  {
   "attachments": {},
   "cell_type": "markdown",
   "metadata": {},
   "source": [
    "The random forest model has a higher recall compared to the baseline logistic regression model, but a lower recall compared to the decision tree model. <br>\n",
    "The model is overfitting."
   ]
  },
  {
   "attachments": {},
   "cell_type": "markdown",
   "metadata": {},
   "source": [
    "### Hyperparameter tuning of the random forest model"
   ]
  },
  {
   "attachments": {},
   "cell_type": "markdown",
   "metadata": {},
   "source": [
    "There are some parameters of random forest that can be tuned for the model’s better performance. This includes n_estimators, max_depth, min_samples_split, min_samples_leaf and max_features."
   ]
  },
  {
   "cell_type": "code",
   "execution_count": 331,
   "metadata": {},
   "outputs": [
    {
     "data": {
      "text/plain": [
       "GridSearchCV(cv=4,\n",
       "             estimator=Pipeline(steps=[('scale', StandardScaler()),\n",
       "                                       ('rf',\n",
       "                                        RandomForestClassifier(random_state=42))]),\n",
       "             param_grid={'rf__criterion': ['gini', 'entropy'],\n",
       "                         'rf__max_depth': range(14, 20, 2),\n",
       "                         'rf__min_samples_leaf': [5, 7, 12],\n",
       "                         'rf__min_samples_split': range(3, 4, 7),\n",
       "                         'rf__n_estimators': range(400, 800, 200)},\n",
       "             scoring='recall')"
      ]
     },
     "execution_count": 331,
     "metadata": {},
     "output_type": "execute_result"
    }
   ],
   "source": [
    "# hyperparameter tuning using GridSearchCV\n",
    "params_rf = {'rf__n_estimators': range(400, 800, 200),\n",
    "             'rf__criterion': ['gini', 'entropy'],\n",
    "             'rf__max_depth': range(14, 20, 2),\n",
    "             'rf__min_samples_split': range(3, 4, 7),\n",
    "             'rf__min_samples_leaf': [5, 7, 12]\n",
    "             \n",
    "}\n",
    "\n",
    "gridsearch_rf = GridSearchCV(pipe_rf, params_rf, cv=4, scoring='recall')\n",
    "gridsearch_rf.fit(X_train_resampled, y_train_resampled)\n"
   ]
  },
  {
   "cell_type": "code",
   "execution_count": 332,
   "metadata": {},
   "outputs": [
    {
     "name": "stdout",
     "output_type": "stream",
     "text": [
      "Optimal parameters: {'rf__criterion': 'gini', 'rf__max_depth': 18, 'rf__min_samples_leaf': 5, 'rf__min_samples_split': 3, 'rf__n_estimators': 400}\n",
      "Validation recall: 0.8754168259632131\n"
     ]
    }
   ],
   "source": [
    "# parameters that gave the best result\n",
    "print(f'Optimal parameters: {gridsearch_rf.best_params_}')\n",
    "\n",
    "# Mean cross-validated score of the best_estimator\n",
    "print(f'Validation recall: {gridsearch_rf.best_score_}')"
   ]
  },
  {
   "cell_type": "code",
   "execution_count": 333,
   "metadata": {},
   "outputs": [
    {
     "name": "stdout",
     "output_type": "stream",
     "text": [
      "Recall_score: \n",
      "Train:  0.9647390691114246\n",
      "Test:  0.6576576576576577\n",
      "\n",
      "Precision_score: \n",
      "Train:  0.987487969201155\n",
      "Test:  0.6822429906542056\n",
      "\n",
      "Accuracy_score: \n",
      "Train:  0.9762576398683592\n",
      "Test:  0.9136690647482014\n"
     ]
    },
    {
     "data": {
      "image/png": "[encoded data removed]",
      "text/plain": [
       "<Figure size 432x288 with 2 Axes>"
      ]
     },
     "metadata": {
      "needs_background": "light"
     },
     "output_type": "display_data"
    }
   ],
   "source": [
    "# evaluate the performance of the model\n",
    "evaluate(gridsearch_rf, X_test, y_test)"
   ]
  },
  {
   "attachments": {},
   "cell_type": "markdown",
   "metadata": {},
   "source": [
    "On hyperparameter tuning, the recall increases by 1%. The model utilizes high computational power yet it performs poorly. Its performance is lower than the performance of the decision tree model."
   ]
  },
  {
   "attachments": {},
   "cell_type": "markdown",
   "metadata": {},
   "source": [
    "### Support Vector Machine"
   ]
  },
  {
   "cell_type": "code",
   "execution_count": 334,
   "metadata": {},
   "outputs": [
    {
     "data": {
      "text/plain": [
       "Pipeline(steps=[('scale', StandardScaler()), ('svm', SVC(random_state=42))])"
      ]
     },
     "execution_count": 334,
     "metadata": {},
     "output_type": "execute_result"
    }
   ],
   "source": [
    "# Create a pipeline for SVM\n",
    "pipe_svm = Pipeline(steps=[('scale', StandardScaler()), ('svm', SVC(random_state=42))])\n",
    "\n",
    "# Fit the pipeline on the resampled training data\n",
    "pipe_svm.fit(X_train_resampled, y_train_resampled)"
   ]
  },
  {
   "cell_type": "code",
   "execution_count": 335,
   "metadata": {},
   "outputs": [
    {
     "name": "stdout",
     "output_type": "stream",
     "text": [
      "Recall_score: \n",
      "Train:  0.9050305594734368\n",
      "Test:  0.6576576576576577\n",
      "\n",
      "Precision_score: \n",
      "Train:  0.941320293398533\n",
      "Test:  0.5328467153284672\n",
      "\n",
      "Accuracy_score: \n",
      "Train:  0.924306535025858\n",
      "Test:  0.8776978417266187\n"
     ]
    },
    {
     "data": {
      "image/png": "[encoded data removed]",
      "text/plain": [
       "<Figure size 432x288 with 2 Axes>"
      ]
     },
     "metadata": {
      "needs_background": "light"
     },
     "output_type": "display_data"
    }
   ],
   "source": [
    "# Evaluating the performance of the model\n",
    "evaluate(pipe_svm, X_test, y_test)"
   ]
  },
  {
   "attachments": {},
   "cell_type": "markdown",
   "metadata": {},
   "source": [
    "## Model evaluation"
   ]
  },
  {
   "attachments": {},
   "cell_type": "markdown",
   "metadata": {},
   "source": [
    "Decision tree with tuned hyperparameters is the model with the best performance. The optimal parameters of the tuned model are: {'clf__criterion': 'entropy', 'clf__max_depth': 28, 'clf__max_features': 15, 'clf__min_samples_leaf': 2, 'clf__min_samples_split': 2}<br>\n",
    "The model has the highest recall score. The accuracy and precision scores are above average. <br>\n",
    "However, the recall score achieved is below the set score of at least 85%.<br>\n",
    "The evaluation metric values of the tuned decision tree are shown below:"
   ]
  },
  {
   "cell_type": "code",
   "execution_count": 337,
   "metadata": {},
   "outputs": [
    {
     "name": "stdout",
     "output_type": "stream",
     "text": [
      "DECISION TREE(TUNED) SCORES:\n",
      "Test Recall score:  0.7657657657657657\n",
      "Test Precision score:  0.47752808988764045\n",
      "Test Accuracy score:  0.8573141486810552\n"
     ]
    }
   ],
   "source": [
    "# evaluation metrics of the best model based on the test data\n",
    "print('DECISION TREE(TUNED) SCORES:')\n",
    "print('Test Recall score: ', recall_score(y_test, gridsearch_dt.predict(X_test)))\n",
    "print('Test Precision score: ', precision_score(y_test, gridsearch_dt.predict(X_test)))\n",
    "print('Test Accuracy score: ', accuracy_score(y_test, gridsearch_dt.predict(X_test)))"
   ]
  },
  {
   "cell_type": "code",
   "execution_count": 338,
   "metadata": {},
   "outputs": [
    {
     "data": {
      "image/png": "[encoded data removed]",
      "text/plain": [
       "<Figure size 720x504 with 1 Axes>"
      ]
     },
     "metadata": {
      "needs_background": "light"
     },
     "output_type": "display_data"
    }
   ],
   "source": [
    "# plot feature importances of the best model using the defined function\n",
    "# function takes in the pipeline name and figsize.\n",
    "plot_feature_importances(gridsearch_dt.best_estimator_, (10,7))"
   ]
  },
  {
   "attachments": {},
   "cell_type": "markdown",
   "metadata": {},
   "source": [
    "## Conclusions and recommendations"
   ]
  },
  {
   "attachments": {},
   "cell_type": "markdown",
   "metadata": {},
   "source": [
    "The final model that will be used to predict customer churn is the decision tree with tuned hyperparameters.This model results in the lowest number of false negatives.<br>\n",
    "The most important features for predicting customer churn are:\n",
    "- total day minutes: total number of minutes the customer has been in calls during the day\n",
    "- total evening minutes: total number of minutes the customer has been in calls during the evening\n",
    "- customer service calls: number of calls the customer has made to customer service\n",
    "- total international minutes: total number of minutes the user has been in international calls\n",
    " \n",
    "Syriatel should ensure effective customer service so as to meet customers' expectations and analyze customer interactions. They can then follow up on both positive and negative feedbacks received.<br>\n",
    "The more the number of minutes the customer spends on the phone, the higher the likelihood of not churning.  The company should look into the call charge rates in comparison to the competitors, and  consider if they should lower the charges of calls per minute. This can prevent other customers from churning."
   ]
  },
  {
   "attachments": {},
   "cell_type": "markdown",
   "metadata": {},
   "source": [
    "## Next steps"
   ]
  },
  {
   "attachments": {},
   "cell_type": "markdown",
   "metadata": {},
   "source": [
    "The targeted recall score of 85% is not achieved by the best performing model. There is still some overfitting in the model irregardless of hyperparameter tuning.<br>\n",
    "The training data size should be increased to reduce overfitting and hence improve model performance."
   ]
  }
 ],
 "metadata": {
  "kernelspec": {
   "display_name": "Python (learn-env)",
   "language": "python",
   "name": "learn-env"
  },
  "language_info": {
   "codemirror_mode": {
    "name": "ipython",
    "version": 3
   },
   "file_extension": ".py",
   "mimetype": "text/x-python",
   "name": "python",
   "nbconvert_exporter": "python",
   "pygments_lexer": "ipython3",
   "version": "3.8.5"
  },
  "vscode": {
   "interpreter": {
    "hash": "51a3c5d9b9899bae55ebae65f0f259df138e1859bc035a936fc050a02a4d0eab"
   }
  }
 },
 "nbformat": 4,
 "nbformat_minor": 2
}
